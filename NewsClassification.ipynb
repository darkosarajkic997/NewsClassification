{
 "cells": [
  {
   "cell_type": "markdown",
   "metadata": {},
   "source": [
    "## Ucitavanje neophodnih biblioteka"
   ]
  },
  {
   "cell_type": "code",
   "execution_count": 1,
   "metadata": {},
   "outputs": [
    {
     "name": "stderr",
     "output_type": "stream",
     "text": [
      "[nltk_data] Downloading package stopwords to\n",
      "[nltk_data]     C:\\Users\\DarkoSarajkic\\AppData\\Roaming\\nltk_data...\n",
      "[nltk_data]   Package stopwords is already up-to-date!\n",
      "[nltk_data] Downloading package wordnet to\n",
      "[nltk_data]     C:\\Users\\DarkoSarajkic\\AppData\\Roaming\\nltk_data...\n",
      "[nltk_data]   Package wordnet is already up-to-date!\n"
     ]
    }
   ],
   "source": [
    "import pandas as pd\r\n",
    "import numpy as np\r\n",
    "import os\r\n",
    "import nltk\r\n",
    "import matplotlib.pyplot as plt \r\n",
    "\r\n",
    "from nltk.tokenize import word_tokenize\r\n",
    "from nltk.stem import WordNetLemmatizer\r\n",
    "from nltk.corpus import stopwords\r\n",
    "from nltk import RegexpTokenizer\r\n",
    "\r\n",
    "from sklearn.feature_extraction.text import TfidfVectorizer, CountVectorizer\r\n",
    "from sklearn.model_selection import train_test_split\r\n",
    "from sklearn.naive_bayes import MultinomialNB, ComplementNB\r\n",
    "from sklearn.metrics import plot_confusion_matrix, classification_report\r\n",
    "\r\n",
    "nltk.download('stopwords')\r\n",
    "nltk.download('wordnet')\r\n",
    "\r\n",
    "pd.options.display.max_colwidth=100"
   ]
  },
  {
   "cell_type": "markdown",
   "metadata": {},
   "source": [
    "## Ucitavanje podataka i postavljanje labela na osnovu ime fajla u kome se nalaze tekstovi"
   ]
  },
  {
   "cell_type": "code",
   "execution_count": 2,
   "metadata": {},
   "outputs": [],
   "source": [
    "MAIN_DIR_PATH=\"./bbc\"\r\n",
    "texts=[]\r\n",
    "labels=[]\r\n",
    "for dir_name in os.listdir(MAIN_DIR_PATH):\r\n",
    "    path=MAIN_DIR_PATH+'/'+dir_name\r\n",
    "\r\n",
    "    files=[path+'/'+file for file in os.listdir(path)]\r\n",
    "\r\n",
    "    for file in files:\r\n",
    "        with open(file) as txt_file:\r\n",
    "            texts.append(txt_file.read())\r\n",
    "            labels.append(dir_name)"
   ]
  },
  {
   "cell_type": "code",
   "execution_count": 3,
   "metadata": {},
   "outputs": [
    {
     "data": {
      "text/html": [
       "<div>\n",
       "<style scoped>\n",
       "    .dataframe tbody tr th:only-of-type {\n",
       "        vertical-align: middle;\n",
       "    }\n",
       "\n",
       "    .dataframe tbody tr th {\n",
       "        vertical-align: top;\n",
       "    }\n",
       "\n",
       "    .dataframe thead th {\n",
       "        text-align: right;\n",
       "    }\n",
       "</style>\n",
       "<table border=\"1\" class=\"dataframe\">\n",
       "  <thead>\n",
       "    <tr style=\"text-align: right;\">\n",
       "      <th></th>\n",
       "      <th>text</th>\n",
       "      <th>label</th>\n",
       "    </tr>\n",
       "  </thead>\n",
       "  <tbody>\n",
       "    <tr>\n",
       "      <th>0</th>\n",
       "      <td>Ad sales boost Time Warner profit\\n\\nQuarterly profits at US media giant TimeWarner jumped 76% t...</td>\n",
       "      <td>business</td>\n",
       "    </tr>\n",
       "    <tr>\n",
       "      <th>1</th>\n",
       "      <td>Dollar gains on Greenspan speech\\n\\nThe dollar has hit its highest level against the euro in alm...</td>\n",
       "      <td>business</td>\n",
       "    </tr>\n",
       "    <tr>\n",
       "      <th>2</th>\n",
       "      <td>Yukos unit buyer faces loan claim\\n\\nThe owners of embattled Russian oil giant Yukos are to ask ...</td>\n",
       "      <td>business</td>\n",
       "    </tr>\n",
       "    <tr>\n",
       "      <th>3</th>\n",
       "      <td>High fuel prices hit BA's profits\\n\\nBritish Airways has blamed high fuel prices for a 40% drop ...</td>\n",
       "      <td>business</td>\n",
       "    </tr>\n",
       "    <tr>\n",
       "      <th>4</th>\n",
       "      <td>Pernod takeover talk lifts Domecq\\n\\nShares in UK drinks and food firm Allied Domecq have risen ...</td>\n",
       "      <td>business</td>\n",
       "    </tr>\n",
       "    <tr>\n",
       "      <th>5</th>\n",
       "      <td>Japan narrowly escapes recession\\n\\nJapan's economy teetered on the brink of a technical recessi...</td>\n",
       "      <td>business</td>\n",
       "    </tr>\n",
       "    <tr>\n",
       "      <th>6</th>\n",
       "      <td>Jobs growth still slow in the US\\n\\nThe US created fewer jobs than expected in January, but a fa...</td>\n",
       "      <td>business</td>\n",
       "    </tr>\n",
       "    <tr>\n",
       "      <th>7</th>\n",
       "      <td>India calls for fair trade rules\\n\\nIndia, which attends the G7 meeting of seven leading industr...</td>\n",
       "      <td>business</td>\n",
       "    </tr>\n",
       "    <tr>\n",
       "      <th>8</th>\n",
       "      <td>Ethiopia's crop production up 24%\\n\\nEthiopia produced 14.27 million tonnes of crops in 2004, 24...</td>\n",
       "      <td>business</td>\n",
       "    </tr>\n",
       "    <tr>\n",
       "      <th>9</th>\n",
       "      <td>Court rejects $280bn tobacco case\\n\\nA US government claim accusing the country's biggest tobacc...</td>\n",
       "      <td>business</td>\n",
       "    </tr>\n",
       "  </tbody>\n",
       "</table>\n",
       "</div>"
      ],
      "text/plain": [
       "                                                                                                  text  \\\n",
       "0  Ad sales boost Time Warner profit\\n\\nQuarterly profits at US media giant TimeWarner jumped 76% t...   \n",
       "1  Dollar gains on Greenspan speech\\n\\nThe dollar has hit its highest level against the euro in alm...   \n",
       "2  Yukos unit buyer faces loan claim\\n\\nThe owners of embattled Russian oil giant Yukos are to ask ...   \n",
       "3  High fuel prices hit BA's profits\\n\\nBritish Airways has blamed high fuel prices for a 40% drop ...   \n",
       "4  Pernod takeover talk lifts Domecq\\n\\nShares in UK drinks and food firm Allied Domecq have risen ...   \n",
       "5  Japan narrowly escapes recession\\n\\nJapan's economy teetered on the brink of a technical recessi...   \n",
       "6  Jobs growth still slow in the US\\n\\nThe US created fewer jobs than expected in January, but a fa...   \n",
       "7  India calls for fair trade rules\\n\\nIndia, which attends the G7 meeting of seven leading industr...   \n",
       "8  Ethiopia's crop production up 24%\\n\\nEthiopia produced 14.27 million tonnes of crops in 2004, 24...   \n",
       "9  Court rejects $280bn tobacco case\\n\\nA US government claim accusing the country's biggest tobacc...   \n",
       "\n",
       "      label  \n",
       "0  business  \n",
       "1  business  \n",
       "2  business  \n",
       "3  business  \n",
       "4  business  \n",
       "5  business  \n",
       "6  business  \n",
       "7  business  \n",
       "8  business  \n",
       "9  business  "
      ]
     },
     "execution_count": 3,
     "metadata": {},
     "output_type": "execute_result"
    }
   ],
   "source": [
    "data=pd.DataFrame(zip(texts,labels), columns=['text','label'])\r\n",
    "data.head(10)"
   ]
  },
  {
   "cell_type": "markdown",
   "metadata": {},
   "source": [
    "## Broj novinskih clanaka po kategoriji"
   ]
  },
  {
   "cell_type": "code",
   "execution_count": 4,
   "metadata": {},
   "outputs": [
    {
     "data": {
      "image/png": "[encoded data removed]",
      "text/plain": [
       "<Figure size 432x288 with 1 Axes>"
      ]
     },
     "metadata": {
      "needs_background": "light"
     },
     "output_type": "display_data"
    }
   ],
   "source": [
    "data.groupby('label').count().plot.bar(ylim=0,rot=0)\r\n",
    "plt.show()"
   ]
  },
  {
   "cell_type": "markdown",
   "metadata": {},
   "source": [
    "## Funkcija za preprocesiranje teksta\r\n",
    "### - konverzija u mala slova\r\n",
    "### - ukljanjanje svih karaktera osim malih slova i podela teksta na reci\r\n",
    "### - ukljanjanje stop reci koje se nalaze u recniku stop reci NLTK biblioteke\r\n",
    "### - lematizacija"
   ]
  },
  {
   "cell_type": "code",
   "execution_count": 5,
   "metadata": {},
   "outputs": [],
   "source": [
    "def preprocess_text(original_text):\r\n",
    "    text=original_text.lower()\r\n",
    "    tokenizer = RegexpTokenizer(r\"[a-z]+\")\r\n",
    "    text=tokenizer.tokenize(text)\r\n",
    "    text = [word for word in text if word not in stopwords.words('english')]\r\n",
    "    lemmatizer = WordNetLemmatizer()\r\n",
    "    lemm_text=[]\r\n",
    "    for word in text:\r\n",
    "        lemm_text.append(lemmatizer.lemmatize(word))\r\n",
    "    return ' '.join(lemm_text)"
   ]
  },
  {
   "cell_type": "code",
   "execution_count": 6,
   "metadata": {},
   "outputs": [
    {
     "data": {
      "text/html": [
       "<div>\n",
       "<style scoped>\n",
       "    .dataframe tbody tr th:only-of-type {\n",
       "        vertical-align: middle;\n",
       "    }\n",
       "\n",
       "    .dataframe tbody tr th {\n",
       "        vertical-align: top;\n",
       "    }\n",
       "\n",
       "    .dataframe thead th {\n",
       "        text-align: right;\n",
       "    }\n",
       "</style>\n",
       "<table border=\"1\" class=\"dataframe\">\n",
       "  <thead>\n",
       "    <tr style=\"text-align: right;\">\n",
       "      <th></th>\n",
       "      <th>text</th>\n",
       "      <th>label</th>\n",
       "      <th>preprocessed_text</th>\n",
       "    </tr>\n",
       "  </thead>\n",
       "  <tbody>\n",
       "    <tr>\n",
       "      <th>0</th>\n",
       "      <td>Ad sales boost Time Warner profit\\n\\nQuarterly profits at US media giant TimeWarner jumped 76% t...</td>\n",
       "      <td>business</td>\n",
       "      <td>ad sale boost time warner profit quarterly profit u medium giant timewarner jumped bn three mont...</td>\n",
       "    </tr>\n",
       "    <tr>\n",
       "      <th>1</th>\n",
       "      <td>Dollar gains on Greenspan speech\\n\\nThe dollar has hit its highest level against the euro in alm...</td>\n",
       "      <td>business</td>\n",
       "      <td>dollar gain greenspan speech dollar hit highest level euro almost three month federal reserve he...</td>\n",
       "    </tr>\n",
       "    <tr>\n",
       "      <th>2</th>\n",
       "      <td>Yukos unit buyer faces loan claim\\n\\nThe owners of embattled Russian oil giant Yukos are to ask ...</td>\n",
       "      <td>business</td>\n",
       "      <td>yukos unit buyer face loan claim owner embattled russian oil giant yukos ask buyer former produc...</td>\n",
       "    </tr>\n",
       "    <tr>\n",
       "      <th>3</th>\n",
       "      <td>High fuel prices hit BA's profits\\n\\nBritish Airways has blamed high fuel prices for a 40% drop ...</td>\n",
       "      <td>business</td>\n",
       "      <td>high fuel price hit ba profit british airway blamed high fuel price drop profit reporting result...</td>\n",
       "    </tr>\n",
       "    <tr>\n",
       "      <th>4</th>\n",
       "      <td>Pernod takeover talk lifts Domecq\\n\\nShares in UK drinks and food firm Allied Domecq have risen ...</td>\n",
       "      <td>business</td>\n",
       "      <td>pernod takeover talk lift domecq share uk drink food firm allied domecq risen speculation could ...</td>\n",
       "    </tr>\n",
       "    <tr>\n",
       "      <th>5</th>\n",
       "      <td>Japan narrowly escapes recession\\n\\nJapan's economy teetered on the brink of a technical recessi...</td>\n",
       "      <td>business</td>\n",
       "      <td>japan narrowly escape recession japan economy teetered brink technical recession three month sep...</td>\n",
       "    </tr>\n",
       "    <tr>\n",
       "      <th>6</th>\n",
       "      <td>Jobs growth still slow in the US\\n\\nThe US created fewer jobs than expected in January, but a fa...</td>\n",
       "      <td>business</td>\n",
       "      <td>job growth still slow u u created fewer job expected january fall jobseekers pushed unemployment...</td>\n",
       "    </tr>\n",
       "    <tr>\n",
       "      <th>7</th>\n",
       "      <td>India calls for fair trade rules\\n\\nIndia, which attends the G7 meeting of seven leading industr...</td>\n",
       "      <td>business</td>\n",
       "      <td>india call fair trade rule india attends g meeting seven leading industrialised nation friday un...</td>\n",
       "    </tr>\n",
       "    <tr>\n",
       "      <th>8</th>\n",
       "      <td>Ethiopia's crop production up 24%\\n\\nEthiopia produced 14.27 million tonnes of crops in 2004, 24...</td>\n",
       "      <td>business</td>\n",
       "      <td>ethiopia crop production ethiopia produced million tonne crop higher average past five year repo...</td>\n",
       "    </tr>\n",
       "    <tr>\n",
       "      <th>9</th>\n",
       "      <td>Court rejects $280bn tobacco case\\n\\nA US government claim accusing the country's biggest tobacc...</td>\n",
       "      <td>business</td>\n",
       "      <td>court reject bn tobacco case u government claim accusing country biggest tobacco company coverin...</td>\n",
       "    </tr>\n",
       "  </tbody>\n",
       "</table>\n",
       "</div>"
      ],
      "text/plain": [
       "                                                                                                  text  \\\n",
       "0  Ad sales boost Time Warner profit\\n\\nQuarterly profits at US media giant TimeWarner jumped 76% t...   \n",
       "1  Dollar gains on Greenspan speech\\n\\nThe dollar has hit its highest level against the euro in alm...   \n",
       "2  Yukos unit buyer faces loan claim\\n\\nThe owners of embattled Russian oil giant Yukos are to ask ...   \n",
       "3  High fuel prices hit BA's profits\\n\\nBritish Airways has blamed high fuel prices for a 40% drop ...   \n",
       "4  Pernod takeover talk lifts Domecq\\n\\nShares in UK drinks and food firm Allied Domecq have risen ...   \n",
       "5  Japan narrowly escapes recession\\n\\nJapan's economy teetered on the brink of a technical recessi...   \n",
       "6  Jobs growth still slow in the US\\n\\nThe US created fewer jobs than expected in January, but a fa...   \n",
       "7  India calls for fair trade rules\\n\\nIndia, which attends the G7 meeting of seven leading industr...   \n",
       "8  Ethiopia's crop production up 24%\\n\\nEthiopia produced 14.27 million tonnes of crops in 2004, 24...   \n",
       "9  Court rejects $280bn tobacco case\\n\\nA US government claim accusing the country's biggest tobacc...   \n",
       "\n",
       "      label  \\\n",
       "0  business   \n",
       "1  business   \n",
       "2  business   \n",
       "3  business   \n",
       "4  business   \n",
       "5  business   \n",
       "6  business   \n",
       "7  business   \n",
       "8  business   \n",
       "9  business   \n",
       "\n",
       "                                                                                     preprocessed_text  \n",
       "0  ad sale boost time warner profit quarterly profit u medium giant timewarner jumped bn three mont...  \n",
       "1  dollar gain greenspan speech dollar hit highest level euro almost three month federal reserve he...  \n",
       "2  yukos unit buyer face loan claim owner embattled russian oil giant yukos ask buyer former produc...  \n",
       "3  high fuel price hit ba profit british airway blamed high fuel price drop profit reporting result...  \n",
       "4  pernod takeover talk lift domecq share uk drink food firm allied domecq risen speculation could ...  \n",
       "5  japan narrowly escape recession japan economy teetered brink technical recession three month sep...  \n",
       "6  job growth still slow u u created fewer job expected january fall jobseekers pushed unemployment...  \n",
       "7  india call fair trade rule india attends g meeting seven leading industrialised nation friday un...  \n",
       "8  ethiopia crop production ethiopia produced million tonne crop higher average past five year repo...  \n",
       "9  court reject bn tobacco case u government claim accusing country biggest tobacco company coverin...  "
      ]
     },
     "execution_count": 6,
     "metadata": {},
     "output_type": "execute_result"
    }
   ],
   "source": [
    "data['preprocessed_text']=data.apply(lambda x:preprocess_text(x['text']),axis=1)\r\n",
    "data[:10]"
   ]
  },
  {
   "cell_type": "markdown",
   "metadata": {},
   "source": [
    "## Podela podataka na trening i test skup"
   ]
  },
  {
   "cell_type": "code",
   "execution_count": 7,
   "metadata": {},
   "outputs": [],
   "source": [
    "X_train,X_test,y_train,y_test=train_test_split(data['preprocessed_text'],data['label'],train_size=0.8, stratify=data['label'])"
   ]
  },
  {
   "cell_type": "markdown",
   "metadata": {},
   "source": [
    "## Kreiranje TF i TF-IDF vektorizatora sa razlicitim maksimalnim brojem atributa \r\n",
    "### max broj atributa ide od maksimalnog moguceg do 50 "
   ]
  },
  {
   "cell_type": "code",
   "execution_count": 8,
   "metadata": {},
   "outputs": [],
   "source": [
    "max_features=[20000,10000,5000,1000,500,100,50]\r\n",
    "labels=['tf_idf_max','tf_max']\r\n",
    "vectorizers=[TfidfVectorizer(),TfidfVectorizer(use_idf=False)]\r\n",
    "\r\n",
    "for max_feature in max_features:\r\n",
    "    vectorizers.append(TfidfVectorizer(max_features=max_feature))\r\n",
    "    vectorizers.append(TfidfVectorizer(use_idf=False,max_features=max_feature))\r\n",
    "    labels.append('tf_idf_'+str(max_feature))\r\n",
    "    labels.append('tf_'+str(max_feature))\r\n",
    "    "
   ]
  },
  {
   "cell_type": "markdown",
   "metadata": {},
   "source": [
    "## Treniranje MultinomialNB klasifikatora za svaki vektorizator"
   ]
  },
  {
   "cell_type": "code",
   "execution_count": 9,
   "metadata": {},
   "outputs": [
    {
     "data": {
      "text/plain": [
       "[96.40449438202248,\n",
       " 96.62921348314607,\n",
       " 96.40449438202248,\n",
       " 96.62921348314607,\n",
       " 96.85393258426967,\n",
       " 97.07865168539325,\n",
       " 97.07865168539325,\n",
       " 97.07865168539325,\n",
       " 96.85393258426967,\n",
       " 96.62921348314607,\n",
       " 95.0561797752809,\n",
       " 95.28089887640449,\n",
       " 89.8876404494382,\n",
       " 88.53932584269663,\n",
       " 83.82022471910112,\n",
       " 81.79775280898876]"
      ]
     },
     "execution_count": 9,
     "metadata": {},
     "output_type": "execute_result"
    }
   ],
   "source": [
    "acc_scores=[]\r\n",
    "classifier = MultinomialNB()\r\n",
    "\r\n",
    "for vectorizer in  vectorizers:\r\n",
    "    train_data=vectorizer.fit_transform(X_train)\r\n",
    "    test_data=vectorizer.transform(X_test)\r\n",
    "    classifier.fit(train_data,y_train)\r\n",
    "    acc_scores.append(classifier.score(test_data,y_test)*100)\r\n",
    "\r\n",
    "acc_scores\r\n"
   ]
  },
  {
   "cell_type": "markdown",
   "metadata": {},
   "source": [
    "## Prikaz tacnosti za sve trenirane klasifikatore"
   ]
  },
  {
   "cell_type": "code",
   "execution_count": 10,
   "metadata": {},
   "outputs": [
    {
     "data": {
      "image/png": "[encoded data removed]",
      "text/plain": [
       "<Figure size 1296x360 with 1 Axes>"
      ]
     },
     "metadata": {
      "needs_background": "light"
     },
     "output_type": "display_data"
    }
   ],
   "source": [
    "plt.figure(figsize=(18, 5))\r\n",
    "plt.bar(labels,acc_scores)\r\n",
    "plt.show()"
   ]
  },
  {
   "cell_type": "code",
   "execution_count": 11,
   "metadata": {},
   "outputs": [
    {
     "data": {
      "text/html": [
       "<div>\n",
       "<style scoped>\n",
       "    .dataframe tbody tr th:only-of-type {\n",
       "        vertical-align: middle;\n",
       "    }\n",
       "\n",
       "    .dataframe tbody tr th {\n",
       "        vertical-align: top;\n",
       "    }\n",
       "\n",
       "    .dataframe thead th {\n",
       "        text-align: right;\n",
       "    }\n",
       "</style>\n",
       "<table border=\"1\" class=\"dataframe\">\n",
       "  <thead>\n",
       "    <tr style=\"text-align: right;\">\n",
       "      <th></th>\n",
       "      <th>vectorizer</th>\n",
       "      <th>score</th>\n",
       "    </tr>\n",
       "  </thead>\n",
       "  <tbody>\n",
       "    <tr>\n",
       "      <th>5</th>\n",
       "      <td>tf_10000</td>\n",
       "      <td>97.078652</td>\n",
       "    </tr>\n",
       "    <tr>\n",
       "      <th>6</th>\n",
       "      <td>tf_idf_5000</td>\n",
       "      <td>97.078652</td>\n",
       "    </tr>\n",
       "    <tr>\n",
       "      <th>7</th>\n",
       "      <td>tf_5000</td>\n",
       "      <td>97.078652</td>\n",
       "    </tr>\n",
       "    <tr>\n",
       "      <th>4</th>\n",
       "      <td>tf_idf_10000</td>\n",
       "      <td>96.853933</td>\n",
       "    </tr>\n",
       "    <tr>\n",
       "      <th>8</th>\n",
       "      <td>tf_idf_1000</td>\n",
       "      <td>96.853933</td>\n",
       "    </tr>\n",
       "    <tr>\n",
       "      <th>1</th>\n",
       "      <td>tf_max</td>\n",
       "      <td>96.629213</td>\n",
       "    </tr>\n",
       "    <tr>\n",
       "      <th>3</th>\n",
       "      <td>tf_20000</td>\n",
       "      <td>96.629213</td>\n",
       "    </tr>\n",
       "    <tr>\n",
       "      <th>9</th>\n",
       "      <td>tf_1000</td>\n",
       "      <td>96.629213</td>\n",
       "    </tr>\n",
       "    <tr>\n",
       "      <th>0</th>\n",
       "      <td>tf_idf_max</td>\n",
       "      <td>96.404494</td>\n",
       "    </tr>\n",
       "    <tr>\n",
       "      <th>2</th>\n",
       "      <td>tf_idf_20000</td>\n",
       "      <td>96.404494</td>\n",
       "    </tr>\n",
       "    <tr>\n",
       "      <th>11</th>\n",
       "      <td>tf_500</td>\n",
       "      <td>95.280899</td>\n",
       "    </tr>\n",
       "    <tr>\n",
       "      <th>10</th>\n",
       "      <td>tf_idf_500</td>\n",
       "      <td>95.05618</td>\n",
       "    </tr>\n",
       "    <tr>\n",
       "      <th>12</th>\n",
       "      <td>tf_idf_100</td>\n",
       "      <td>89.88764</td>\n",
       "    </tr>\n",
       "    <tr>\n",
       "      <th>13</th>\n",
       "      <td>tf_100</td>\n",
       "      <td>88.539326</td>\n",
       "    </tr>\n",
       "    <tr>\n",
       "      <th>14</th>\n",
       "      <td>tf_idf_50</td>\n",
       "      <td>83.820225</td>\n",
       "    </tr>\n",
       "    <tr>\n",
       "      <th>15</th>\n",
       "      <td>tf_50</td>\n",
       "      <td>81.797753</td>\n",
       "    </tr>\n",
       "  </tbody>\n",
       "</table>\n",
       "</div>"
      ],
      "text/plain": [
       "      vectorizer      score\n",
       "5       tf_10000  97.078652\n",
       "6    tf_idf_5000  97.078652\n",
       "7        tf_5000  97.078652\n",
       "4   tf_idf_10000  96.853933\n",
       "8    tf_idf_1000  96.853933\n",
       "1         tf_max  96.629213\n",
       "3       tf_20000  96.629213\n",
       "9        tf_1000  96.629213\n",
       "0     tf_idf_max  96.404494\n",
       "2   tf_idf_20000  96.404494\n",
       "11        tf_500  95.280899\n",
       "10    tf_idf_500   95.05618\n",
       "12    tf_idf_100   89.88764\n",
       "13        tf_100  88.539326\n",
       "14     tf_idf_50  83.820225\n",
       "15         tf_50  81.797753"
      ]
     },
     "execution_count": 11,
     "metadata": {},
     "output_type": "execute_result"
    }
   ],
   "source": [
    "score_df=pd.DataFrame([labels,acc_scores],index=['vectorizer','score']).T\r\n",
    "score_df.sort_values(by=['score'],axis=0,ascending=False)"
   ]
  },
  {
   "cell_type": "markdown",
   "metadata": {},
   "source": [
    "## Treniranje ComplementNB klasifikatora za sve vektorizatore"
   ]
  },
  {
   "cell_type": "code",
   "execution_count": 12,
   "metadata": {},
   "outputs": [
    {
     "data": {
      "text/plain": [
       "[97.30337078651685,\n",
       " 97.52808988764045,\n",
       " 97.52808988764045,\n",
       " 97.52808988764045,\n",
       " 97.75280898876404,\n",
       " 97.75280898876404,\n",
       " 97.75280898876404,\n",
       " 97.52808988764045,\n",
       " 96.62921348314607,\n",
       " 96.62921348314607,\n",
       " 94.6067415730337,\n",
       " 94.6067415730337,\n",
       " 86.96629213483146,\n",
       " 87.19101123595505,\n",
       " 79.5505617977528,\n",
       " 79.10112359550561]"
      ]
     },
     "execution_count": 12,
     "metadata": {},
     "output_type": "execute_result"
    }
   ],
   "source": [
    "acc_scores2=[]\r\n",
    "classifier = ComplementNB()\r\n",
    "\r\n",
    "for vectorizer in  vectorizers:\r\n",
    "    train_data=vectorizer.fit_transform(X_train)\r\n",
    "    test_data=vectorizer.transform(X_test)\r\n",
    "    classifier.fit(train_data,y_train)\r\n",
    "    acc_scores2.append(classifier.score(test_data,y_test)*100)\r\n",
    "\r\n",
    "acc_scores2"
   ]
  },
  {
   "cell_type": "code",
   "execution_count": 13,
   "metadata": {},
   "outputs": [
    {
     "data": {
      "image/png": "[encoded data removed]",
      "text/plain": [
       "<Figure size 1296x360 with 1 Axes>"
      ]
     },
     "metadata": {
      "needs_background": "light"
     },
     "output_type": "display_data"
    }
   ],
   "source": [
    "plt.figure(figsize=(18, 5))\r\n",
    "plt.bar(labels,acc_scores2)\r\n",
    "plt.show()"
   ]
  },
  {
   "cell_type": "code",
   "execution_count": 14,
   "metadata": {},
   "outputs": [
    {
     "data": {
      "text/html": [
       "<div>\n",
       "<style scoped>\n",
       "    .dataframe tbody tr th:only-of-type {\n",
       "        vertical-align: middle;\n",
       "    }\n",
       "\n",
       "    .dataframe tbody tr th {\n",
       "        vertical-align: top;\n",
       "    }\n",
       "\n",
       "    .dataframe thead th {\n",
       "        text-align: right;\n",
       "    }\n",
       "</style>\n",
       "<table border=\"1\" class=\"dataframe\">\n",
       "  <thead>\n",
       "    <tr style=\"text-align: right;\">\n",
       "      <th></th>\n",
       "      <th>vectorizer</th>\n",
       "      <th>score</th>\n",
       "    </tr>\n",
       "  </thead>\n",
       "  <tbody>\n",
       "    <tr>\n",
       "      <th>4</th>\n",
       "      <td>tf_idf_10000</td>\n",
       "      <td>97.752809</td>\n",
       "    </tr>\n",
       "    <tr>\n",
       "      <th>5</th>\n",
       "      <td>tf_10000</td>\n",
       "      <td>97.752809</td>\n",
       "    </tr>\n",
       "    <tr>\n",
       "      <th>6</th>\n",
       "      <td>tf_idf_5000</td>\n",
       "      <td>97.752809</td>\n",
       "    </tr>\n",
       "    <tr>\n",
       "      <th>1</th>\n",
       "      <td>tf_max</td>\n",
       "      <td>97.52809</td>\n",
       "    </tr>\n",
       "    <tr>\n",
       "      <th>2</th>\n",
       "      <td>tf_idf_20000</td>\n",
       "      <td>97.52809</td>\n",
       "    </tr>\n",
       "    <tr>\n",
       "      <th>3</th>\n",
       "      <td>tf_20000</td>\n",
       "      <td>97.52809</td>\n",
       "    </tr>\n",
       "    <tr>\n",
       "      <th>7</th>\n",
       "      <td>tf_5000</td>\n",
       "      <td>97.52809</td>\n",
       "    </tr>\n",
       "    <tr>\n",
       "      <th>0</th>\n",
       "      <td>tf_idf_max</td>\n",
       "      <td>97.303371</td>\n",
       "    </tr>\n",
       "    <tr>\n",
       "      <th>8</th>\n",
       "      <td>tf_idf_1000</td>\n",
       "      <td>96.629213</td>\n",
       "    </tr>\n",
       "    <tr>\n",
       "      <th>9</th>\n",
       "      <td>tf_1000</td>\n",
       "      <td>96.629213</td>\n",
       "    </tr>\n",
       "    <tr>\n",
       "      <th>10</th>\n",
       "      <td>tf_idf_500</td>\n",
       "      <td>94.606742</td>\n",
       "    </tr>\n",
       "    <tr>\n",
       "      <th>11</th>\n",
       "      <td>tf_500</td>\n",
       "      <td>94.606742</td>\n",
       "    </tr>\n",
       "    <tr>\n",
       "      <th>13</th>\n",
       "      <td>tf_100</td>\n",
       "      <td>87.191011</td>\n",
       "    </tr>\n",
       "    <tr>\n",
       "      <th>12</th>\n",
       "      <td>tf_idf_100</td>\n",
       "      <td>86.966292</td>\n",
       "    </tr>\n",
       "    <tr>\n",
       "      <th>14</th>\n",
       "      <td>tf_idf_50</td>\n",
       "      <td>79.550562</td>\n",
       "    </tr>\n",
       "    <tr>\n",
       "      <th>15</th>\n",
       "      <td>tf_50</td>\n",
       "      <td>79.101124</td>\n",
       "    </tr>\n",
       "  </tbody>\n",
       "</table>\n",
       "</div>"
      ],
      "text/plain": [
       "      vectorizer      score\n",
       "4   tf_idf_10000  97.752809\n",
       "5       tf_10000  97.752809\n",
       "6    tf_idf_5000  97.752809\n",
       "1         tf_max   97.52809\n",
       "2   tf_idf_20000   97.52809\n",
       "3       tf_20000   97.52809\n",
       "7        tf_5000   97.52809\n",
       "0     tf_idf_max  97.303371\n",
       "8    tf_idf_1000  96.629213\n",
       "9        tf_1000  96.629213\n",
       "10    tf_idf_500  94.606742\n",
       "11        tf_500  94.606742\n",
       "13        tf_100  87.191011\n",
       "12    tf_idf_100  86.966292\n",
       "14     tf_idf_50  79.550562\n",
       "15         tf_50  79.101124"
      ]
     },
     "execution_count": 14,
     "metadata": {},
     "output_type": "execute_result"
    }
   ],
   "source": [
    "score_df2=pd.DataFrame([labels,acc_scores2],index=['vectorizer','score']).T\r\n",
    "score_df2.sort_values(by=['score'],axis=0,ascending=False)"
   ]
  },
  {
   "cell_type": "markdown",
   "metadata": {},
   "source": [
    "## Konfuziona matrica i klasifikacioni izvestaj za najbolji klasifikator"
   ]
  },
  {
   "cell_type": "code",
   "execution_count": 21,
   "metadata": {},
   "outputs": [
    {
     "data": {
      "image/png": "[encoded data removed]",
      "text/plain": [
       "<Figure size 720x720 with 2 Axes>"
      ]
     },
     "metadata": {
      "needs_background": "light"
     },
     "output_type": "display_data"
    }
   ],
   "source": [
    "classifier = ComplementNB()\r\n",
    "vectorizer=TfidfVectorizer(max_features=10000)\r\n",
    "\r\n",
    "train_data=vectorizer.fit_transform(X_train)\r\n",
    "test_data=vectorizer.transform(X_test)\r\n",
    "classifier.fit(train_data,y_train)\r\n",
    "\r\n",
    "fig, ax = plt.subplots(figsize=(10, 10))\r\n",
    "plot_confusion_matrix(classifier,test_data,y_test,ax=ax)\r\n",
    "plt.show()"
   ]
  },
  {
   "cell_type": "code",
   "execution_count": 16,
   "metadata": {},
   "outputs": [
    {
     "name": "stdout",
     "output_type": "stream",
     "text": [
      "               precision    recall  f1-score   support\n",
      "\n",
      "     business       0.97      0.96      0.97       102\n",
      "entertainment       0.99      0.94      0.96        77\n",
      "     politics       0.95      0.99      0.97        84\n",
      "        sport       0.99      1.00      1.00       102\n",
      "         tech       0.96      0.97      0.97        80\n",
      "\n",
      "     accuracy                           0.97       445\n",
      "    macro avg       0.97      0.97      0.97       445\n",
      " weighted avg       0.97      0.97      0.97       445\n",
      "\n"
     ]
    }
   ],
   "source": [
    "print(classification_report(y_true=y_test,y_pred=classifier.predict(test_data)))"
   ]
  },
  {
   "cell_type": "markdown",
   "metadata": {},
   "source": [
    "## Prikaz svih pogresno klasifikovanih tekstova"
   ]
  },
  {
   "cell_type": "code",
   "execution_count": 17,
   "metadata": {},
   "outputs": [],
   "source": [
    "result=pd.DataFrame([X_test]).T"
   ]
  },
  {
   "cell_type": "code",
   "execution_count": 18,
   "metadata": {},
   "outputs": [],
   "source": [
    "result['true_label']=y_test\r\n",
    "result['predicted_label']=classifier.predict(test_data)"
   ]
  },
  {
   "cell_type": "code",
   "execution_count": 19,
   "metadata": {},
   "outputs": [
    {
     "data": {
      "text/html": [
       "<div>\n",
       "<style scoped>\n",
       "    .dataframe tbody tr th:only-of-type {\n",
       "        vertical-align: middle;\n",
       "    }\n",
       "\n",
       "    .dataframe tbody tr th {\n",
       "        vertical-align: top;\n",
       "    }\n",
       "\n",
       "    .dataframe thead th {\n",
       "        text-align: right;\n",
       "    }\n",
       "</style>\n",
       "<table border=\"1\" class=\"dataframe\">\n",
       "  <thead>\n",
       "    <tr style=\"text-align: right;\">\n",
       "      <th></th>\n",
       "      <th>preprocessed_text</th>\n",
       "      <th>true_label</th>\n",
       "      <th>predicted_label</th>\n",
       "    </tr>\n",
       "  </thead>\n",
       "  <tbody>\n",
       "    <tr>\n",
       "      <th>1869</th>\n",
       "      <td>bbc lead interactive bafta win bbc national theatre led field year interactive bafta award natio...</td>\n",
       "      <td>tech</td>\n",
       "      <td>entertainment</td>\n",
       "    </tr>\n",
       "    <tr>\n",
       "      <th>242</th>\n",
       "      <td>making office work mission brighten working life continues time taking long hard look office nex...</td>\n",
       "      <td>business</td>\n",
       "      <td>tech</td>\n",
       "    </tr>\n",
       "    <tr>\n",
       "      <th>510</th>\n",
       "      <td>gallery unveils interactive tree christmas tree receive text message unveiled london tate britai...</td>\n",
       "      <td>entertainment</td>\n",
       "      <td>tech</td>\n",
       "    </tr>\n",
       "    <tr>\n",
       "      <th>226</th>\n",
       "      <td>call save manufacturing job trade union congress tuc calling government stem job loss manufactur...</td>\n",
       "      <td>business</td>\n",
       "      <td>politics</td>\n",
       "    </tr>\n",
       "    <tr>\n",
       "      <th>10</th>\n",
       "      <td>ask jeeves tip online ad revival ask jeeves become third leading online search firm week thank r...</td>\n",
       "      <td>business</td>\n",
       "      <td>tech</td>\n",
       "    </tr>\n",
       "    <tr>\n",
       "      <th>2207</th>\n",
       "      <td>china ripe medium explosion asia set drive global medium growth beyond china india filling two t...</td>\n",
       "      <td>tech</td>\n",
       "      <td>business</td>\n",
       "    </tr>\n",
       "    <tr>\n",
       "      <th>153</th>\n",
       "      <td>golden rule boost chancellor chancellor gordon brown given bn boost attempt meet golden economic...</td>\n",
       "      <td>business</td>\n",
       "      <td>politics</td>\n",
       "    </tr>\n",
       "    <tr>\n",
       "      <th>722</th>\n",
       "      <td>tv show unites angolan family angolan family attempting track separated nearly year war succeedi...</td>\n",
       "      <td>entertainment</td>\n",
       "      <td>politics</td>\n",
       "    </tr>\n",
       "    <tr>\n",
       "      <th>698</th>\n",
       "      <td>holmes win top tv moment sprinter kelly holmes olympic victory named top television moment bbc p...</td>\n",
       "      <td>entertainment</td>\n",
       "      <td>sport</td>\n",
       "    </tr>\n",
       "    <tr>\n",
       "      <th>1264</th>\n",
       "      <td>baa support ahead court battle uk airport operator baa reiterated support government aviation ex...</td>\n",
       "      <td>politics</td>\n",
       "      <td>business</td>\n",
       "    </tr>\n",
       "    <tr>\n",
       "      <th>535</th>\n",
       "      <td>uk national gallery pink national gallery home uk greatest artwork seen big jump visitor number ...</td>\n",
       "      <td>entertainment</td>\n",
       "      <td>business</td>\n",
       "    </tr>\n",
       "    <tr>\n",
       "      <th>719</th>\n",
       "      <td>muslim group attack tv drama british muslim group criticised new series u drama aired sky one cl...</td>\n",
       "      <td>entertainment</td>\n",
       "      <td>politics</td>\n",
       "    </tr>\n",
       "  </tbody>\n",
       "</table>\n",
       "</div>"
      ],
      "text/plain": [
       "                                                                                        preprocessed_text  \\\n",
       "1869  bbc lead interactive bafta win bbc national theatre led field year interactive bafta award natio...   \n",
       "242   making office work mission brighten working life continues time taking long hard look office nex...   \n",
       "510   gallery unveils interactive tree christmas tree receive text message unveiled london tate britai...   \n",
       "226   call save manufacturing job trade union congress tuc calling government stem job loss manufactur...   \n",
       "10    ask jeeves tip online ad revival ask jeeves become third leading online search firm week thank r...   \n",
       "2207  china ripe medium explosion asia set drive global medium growth beyond china india filling two t...   \n",
       "153   golden rule boost chancellor chancellor gordon brown given bn boost attempt meet golden economic...   \n",
       "722   tv show unites angolan family angolan family attempting track separated nearly year war succeedi...   \n",
       "698   holmes win top tv moment sprinter kelly holmes olympic victory named top television moment bbc p...   \n",
       "1264  baa support ahead court battle uk airport operator baa reiterated support government aviation ex...   \n",
       "535   uk national gallery pink national gallery home uk greatest artwork seen big jump visitor number ...   \n",
       "719   muslim group attack tv drama british muslim group criticised new series u drama aired sky one cl...   \n",
       "\n",
       "         true_label predicted_label  \n",
       "1869           tech   entertainment  \n",
       "242        business            tech  \n",
       "510   entertainment            tech  \n",
       "226        business        politics  \n",
       "10         business            tech  \n",
       "2207           tech        business  \n",
       "153        business        politics  \n",
       "722   entertainment        politics  \n",
       "698   entertainment           sport  \n",
       "1264       politics        business  \n",
       "535   entertainment        business  \n",
       "719   entertainment        politics  "
      ]
     },
     "execution_count": 19,
     "metadata": {},
     "output_type": "execute_result"
    }
   ],
   "source": [
    "result.loc[result['true_label']!=result['predicted_label']]"
   ]
  },
  {
   "cell_type": "markdown",
   "metadata": {},
   "source": [
    "## Testiranje klasifikatora na slucajno odabranoj vesti koja je iskopirana sa intereneta"
   ]
  },
  {
   "cell_type": "code",
   "execution_count": 20,
   "metadata": {},
   "outputs": [
    {
     "name": "stdout",
     "output_type": "stream",
     "text": [
      "['sport']\n"
     ]
    }
   ],
   "source": [
    "test_text=\"\"\"For all the young dogs waiting for a go at Novak Djokovic, it is increasingly hard to imagine any scenario other than them rolling over for a tickled belly when their moment comes.\r\n",
    "There has long been a perceived flimsiness around the next generation of men's tennis, who have spent so much time waiting in line that there is a danger of them missing their turn altogether.\r\n",
    "As we begin the second week of Wimbledon, it is necessary to again wonder whether the stasis at the top of the game is down to the astonishing endurance and gifts of a few old boys, or the deficiencies of those in pursuit.\r\n",
    "Plainly the answer covers bits of both, but with each passing Slam it is getting harder to mount a defence for younger guys who are suddenly not so young any more.\r\n",
    "\r\n",
    "It is an awkward fact that since Stan Wawrinka won the 2016 US Open, there have been 17 Slams and only one has not been claimed by Djokovic, Rafael Nadal or Federer.\r\n",
    "That was Dominic Thiem at last year's US Open, to go with three other finals, but he will turn 28 later this year and is missing these championships with an injury.\r\n",
    "Those present and remaining in the draw have a chance across the next week, but it is difficult to make a serious case for anyone beyond Djokovic, irrespective of the Serb not yet looking the full ticket.\r\n",
    "Other than his second-round win over Kevin Anderson, in which he was excellent, Djokovic had iffy moments against Jack Draper and Denis Kudla, and his difficult relationship with the Wimbledon crowd is a developing situation.\r\n",
    "But for those minor considerations, he remains an overwhelming favourite to take his record-equalling 20th Slam on Sunday.\r\n",
    "\r\n",
    "Even at 34, he is a head, shoulders and most of a torso above the chasing pack, with the next modest barrier to a third straight Wimbledon crown being the 17th seed, Cristian Garin of Chile.\r\n",
    "They will play on Centre Court on Monday, where part of the intrigue will concern any further blowouts at those in attendance. 'You know that I play 90 per cent of matches against the audience, the field, the opponents and everyone alive,' said Djokovic.\r\n",
    "'It's something I'm used to, but I'm a man of flesh and blood. I can't always stay calm. 'When someone provokes me, when it crosses the line of taste, sportsmanship and respect, then I show him where he belongs.'\r\n",
    "Garin, a clay-court specialist with no huge weapon, is part of a curious trend at this tournament, whereby no fewer than 13 of the last 16 are on their best Wimbledon run. Only Djokovic, Federer and Roberto Bautista Agut have gone further, and none of that trio is younger than 33.\r\n",
    "\"\"\"\r\n",
    "\r\n",
    "test_text=preprocess_text(test_text)\r\n",
    "test=vectorizer.transform([test_text])\r\n",
    "print(classifier.predict(test))"
   ]
  },
  {
   "cell_type": "code",
   "execution_count": null,
   "metadata": {},
   "outputs": [],
   "source": []
  }
 ],
 "metadata": {
  "interpreter": {
   "hash": "c68aba291de5a6784abefaae4609bb3856fdc96b838d36fa0f158b53a8b9a408"
  },
  "kernelspec": {
   "display_name": "Python 3.8.1 64-bit ('textClassificationNLP': venv)",
   "name": "textclassificationnlp"
  },
  "language_info": {
   "codemirror_mode": {
    "name": "ipython",
    "version": 3
   },
   "file_extension": ".py",
   "mimetype": "text/x-python",
   "name": "python",
   "nbconvert_exporter": "python",
   "pygments_lexer": "ipython3",
   "version": "3.8.1"
  },
  "orig_nbformat": 4
 },
 "nbformat": 4,
 "nbformat_minor": 2
}